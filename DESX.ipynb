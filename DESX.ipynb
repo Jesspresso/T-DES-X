{
  "nbformat": 4,
  "nbformat_minor": 0,
  "metadata": {
    "colab": {
      "provenance": [],
      "authorship_tag": "ABX9TyNHH/1fJJhbfU6jaQvI/2TR",
      "include_colab_link": true
    },
    "kernelspec": {
      "name": "python3",
      "display_name": "Python 3"
    },
    "language_info": {
      "name": "python"
    }
  },
  "cells": [
    {
      "cell_type": "markdown",
      "metadata": {
        "id": "view-in-github",
        "colab_type": "text"
      },
      "source": [
        "<a href=\"https://colab.research.google.com/github/Jesspresso/T-DES-X/blob/main/DESX.ipynb\" target=\"_parent\"><img src=\"https://colab.research.google.com/assets/colab-badge.svg\" alt=\"Open In Colab\"/></a>"
      ]
    },
    {
      "cell_type": "code",
      "execution_count": null,
      "metadata": {
        "id": "6fJ6qiluYfVJ"
      },
      "outputs": [],
      "source": [
        "import time\n",
        "\n",
        "import matplotlib.pylab as plt"
      ]
    },
    {
      "cell_type": "code",
      "source": [
        "#DES structure\n",
        "#Initial permutation structure\n",
        "\n",
        "PI = [12,10,11,28,13,15,17,1,\n",
        "      33,63,21,37,25,50,19,3,\n",
        "      42,39,16,7,60,9,2,56,\n",
        "      54,45,28,5,8,41,59,57,\n",
        "      18,51,27,26,46,6,4,31,\n",
        "      24,14,20,61,64,58,49,34,\n",
        "      47,55,32,35,43,52,36,29,\n",
        "      62,53,44,22,30,40,38,48]\n",
        "\n",
        "print(len(PI))\n",
        "\n",
        "\n",
        "\n"
      ],
      "metadata": {
        "id": "G7zhj-NMkf6Z",
        "colab": {
          "base_uri": "https://localhost:8080/"
        },
        "outputId": "7bf53905-4749-48a6-8128-34fb1edda33c"
      },
      "execution_count": null,
      "outputs": [
        {
          "output_type": "stream",
          "name": "stdout",
          "text": [
            "64\n"
          ]
        }
      ]
    }
  ]
}